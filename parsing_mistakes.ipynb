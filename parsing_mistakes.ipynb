{
 "cells": [
  {
   "cell_type": "markdown",
   "metadata": {},
   "source": [
    "# Parsing mistakes\n",
    "\n",
    "Más que nada es una lista de consejos"
   ]
  },
  {
   "cell_type": "markdown",
   "metadata": {},
   "source": [
    "### CSS Selectors\n",
    "\n",
    "XPath es bueno, pero enredado, es mejor usar CSS selectors, se pueden encadenar, son leibles y mejores que otras formas como el mismo XPath o BS4 selectors"
   ]
  },
  {
   "cell_type": "code",
   "execution_count": 1,
   "metadata": {},
   "outputs": [],
   "source": [
    "from bs4 import BeautifulSoup\n",
    "import requests"
   ]
  },
  {
   "cell_type": "code",
   "execution_count": 5,
   "metadata": {},
   "outputs": [],
   "source": [
    "url = \"https://books.toscrape.com\"\n",
    "resp = requests.get(url)\n",
    "soup = BeautifulSoup(resp.text, 'html.parser')\n",
    "books = soup.find_all(\"article\", {\"class\":\"product_pod\"})\n"
   ]
  },
  {
   "cell_type": "markdown",
   "metadata": {},
   "source": [
    "Mejor hacerlo así"
   ]
  },
  {
   "cell_type": "code",
   "execution_count": 7,
   "metadata": {},
   "outputs": [
    {
     "name": "stdout",
     "output_type": "stream",
     "text": [
      "<a href=\"catalogue/a-light-in-the-attic_1000/index.html\" title=\"A Light in the Attic\">A Light in the ...</a>\n",
      "<a href=\"catalogue/tipping-the-velvet_999/index.html\" title=\"Tipping the Velvet\">Tipping the Velvet</a>\n",
      "<a href=\"catalogue/soumission_998/index.html\" title=\"Soumission\">Soumission</a>\n",
      "<a href=\"catalogue/sharp-objects_997/index.html\" title=\"Sharp Objects\">Sharp Objects</a>\n",
      "<a href=\"catalogue/sapiens-a-brief-history-of-humankind_996/index.html\" title=\"Sapiens: A Brief History of Humankind\">Sapiens: A Brief History ...</a>\n",
      "<a href=\"catalogue/the-requiem-red_995/index.html\" title=\"The Requiem Red\">The Requiem Red</a>\n",
      "<a href=\"catalogue/the-dirty-little-secrets-of-getting-your-dream-job_994/index.html\" title=\"The Dirty Little Secrets of Getting Your Dream Job\">The Dirty Little Secrets ...</a>\n",
      "<a href=\"catalogue/the-coming-woman-a-novel-based-on-the-life-of-the-infamous-feminist-victoria-woodhull_993/index.html\" title=\"The Coming Woman: A Novel Based on the Life of the Infamous Feminist, Victoria Woodhull\">The Coming Woman: A ...</a>\n",
      "<a href=\"catalogue/the-boys-in-the-boat-nine-americans-and-their-epic-quest-for-gold-at-the-1936-berlin-olympics_992/index.html\" title=\"The Boys in the Boat: Nine Americans and Their Epic Quest for Gold at the 1936 Berlin Olympics\">The Boys in the ...</a>\n",
      "<a href=\"catalogue/the-black-maria_991/index.html\" title=\"The Black Maria\">The Black Maria</a>\n",
      "<a href=\"catalogue/starving-hearts-triangular-trade-trilogy-1_990/index.html\" title=\"Starving Hearts (Triangular Trade Trilogy, #1)\">Starving Hearts (Triangular Trade ...</a>\n",
      "<a href=\"catalogue/shakespeares-sonnets_989/index.html\" title=\"Shakespeare's Sonnets\">Shakespeare's Sonnets</a>\n",
      "<a href=\"catalogue/set-me-free_988/index.html\" title=\"Set Me Free\">Set Me Free</a>\n",
      "<a href=\"catalogue/scott-pilgrims-precious-little-life-scott-pilgrim-1_987/index.html\" title=\"Scott Pilgrim's Precious Little Life (Scott Pilgrim #1)\">Scott Pilgrim's Precious Little ...</a>\n",
      "<a href=\"catalogue/rip-it-up-and-start-again_986/index.html\" title=\"Rip it Up and Start Again\">Rip it Up and ...</a>\n",
      "<a href=\"catalogue/our-band-could-be-your-life-scenes-from-the-american-indie-underground-1981-1991_985/index.html\" title=\"Our Band Could Be Your Life: Scenes from the American Indie Underground, 1981-1991\">Our Band Could Be ...</a>\n",
      "<a href=\"catalogue/olio_984/index.html\" title=\"Olio\">Olio</a>\n",
      "<a href=\"catalogue/mesaerion-the-best-science-fiction-stories-1800-1849_983/index.html\" title=\"Mesaerion: The Best Science Fiction Stories 1800-1849\">Mesaerion: The Best Science ...</a>\n",
      "<a href=\"catalogue/libertarianism-for-beginners_982/index.html\" title=\"Libertarianism for Beginners\">Libertarianism for Beginners</a>\n",
      "<a href=\"catalogue/its-only-the-himalayas_981/index.html\" title=\"It's Only the Himalayas\">It's Only the Himalayas</a>\n"
     ]
    }
   ],
   "source": [
    "books = soup.select(\"article.product_pod\")\n",
    "for book in books:\n",
    "    print (book.select_one(\"h3 a\"))"
   ]
  },
  {
   "cell_type": "markdown",
   "metadata": {},
   "source": [
    "### Buscar en el código fuente más que en el inspector\n",
    "El problema del inspector es que mira el DOM del documento y parte de eso puede haber sido hecho por \n",
    "javascript, en el código fuente (*source*) aparece el HTML puro y duro\n",
    "\n",
    "Después de ver el HTML puro y entenderlo se puede ver el inspector\n",
    "\n",
    "Así es más fácil obtener la información y si está en javascript se puede buscar en `<script>`, no es facil en todo caso"
   ]
  },
  {
   "cell_type": "markdown",
   "metadata": {},
   "source": [
    "### Buscar contruyendo con el árbol\n",
    "\n",
    "Buscar la rama madre, como en el ejemplo de arriba, se busca `article.product_pod` y después `h3` y después `a`"
   ]
  },
  {
   "cell_type": "code",
   "execution_count": 10,
   "metadata": {},
   "outputs": [
    {
     "name": "stdout",
     "output_type": "stream",
     "text": [
      "A Light in the Attic\n",
      "Tipping the Velvet\n",
      "Soumission\n",
      "Sharp Objects\n",
      "Sapiens: A Brief History of Humankind\n",
      "The Requiem Red\n",
      "The Dirty Little Secrets of Getting Your Dream Job\n",
      "The Coming Woman: A Novel Based on the Life of the Infamous Feminist, Victoria Woodhull\n",
      "The Boys in the Boat: Nine Americans and Their Epic Quest for Gold at the 1936 Berlin Olympics\n",
      "The Black Maria\n",
      "Starving Hearts (Triangular Trade Trilogy, #1)\n",
      "Shakespeare's Sonnets\n",
      "Set Me Free\n",
      "Scott Pilgrim's Precious Little Life (Scott Pilgrim #1)\n",
      "Rip it Up and Start Again\n",
      "Our Band Could Be Your Life: Scenes from the American Indie Underground, 1981-1991\n",
      "Olio\n",
      "Mesaerion: The Best Science Fiction Stories 1800-1849\n",
      "Libertarianism for Beginners\n",
      "It's Only the Himalayas\n"
     ]
    }
   ],
   "source": [
    "books = soup.select(\"article.product_pod\")\n",
    "for book in books:\n",
    "    print (book.select_one(\"h3 a\").attrs['title'])"
   ]
  },
  {
   "cell_type": "markdown",
   "metadata": {},
   "source": [
    "### Select all / find all \n",
    "\n",
    "Hay que hacer bien uso porque genera una lista, toma todo elemento que hace match y da una lista\n",
    "\n",
    "Es típico usarlo cuando el HTML no está bien identificado con div o classes, por ejemplo puros table en pelota"
   ]
  },
  {
   "cell_type": "code",
   "execution_count": 14,
   "metadata": {},
   "outputs": [
    {
     "name": "stdout",
     "output_type": "stream",
     "text": [
      "[('A Light in the Attic', 'catalogue/a-light-in-the-attic_1000/index.html', '£51.77'), ('Tipping the Velvet', 'catalogue/tipping-the-velvet_999/index.html', '£53.74'), ('Soumission', 'catalogue/soumission_998/index.html', '£50.10'), ('Sharp Objects', 'catalogue/sharp-objects_997/index.html', '£47.82'), ('Sapiens: A Brief History of Humankind', 'catalogue/sapiens-a-brief-history-of-humankind_996/index.html', '£54.23'), ('The Requiem Red', 'catalogue/the-requiem-red_995/index.html', '£22.65'), ('The Dirty Little Secrets of Getting Your Dream Job', 'catalogue/the-dirty-little-secrets-of-getting-your-dream-job_994/index.html', '£33.34'), ('The Coming Woman: A Novel Based on the Life of the Infamous Feminist, Victoria Woodhull', 'catalogue/the-coming-woman-a-novel-based-on-the-life-of-the-infamous-feminist-victoria-woodhull_993/index.html', '£17.93'), ('The Boys in the Boat: Nine Americans and Their Epic Quest for Gold at the 1936 Berlin Olympics', 'catalogue/the-boys-in-the-boat-nine-americans-and-their-epic-quest-for-gold-at-the-1936-berlin-olympics_992/index.html', '£22.60'), ('The Black Maria', 'catalogue/the-black-maria_991/index.html', '£52.15'), ('Starving Hearts (Triangular Trade Trilogy, #1)', 'catalogue/starving-hearts-triangular-trade-trilogy-1_990/index.html', '£13.99'), (\"Shakespeare's Sonnets\", 'catalogue/shakespeares-sonnets_989/index.html', '£20.66'), ('Set Me Free', 'catalogue/set-me-free_988/index.html', '£17.46'), (\"Scott Pilgrim's Precious Little Life (Scott Pilgrim #1)\", 'catalogue/scott-pilgrims-precious-little-life-scott-pilgrim-1_987/index.html', '£52.29'), ('Rip it Up and Start Again', 'catalogue/rip-it-up-and-start-again_986/index.html', '£35.02'), ('Our Band Could Be Your Life: Scenes from the American Indie Underground, 1981-1991', 'catalogue/our-band-could-be-your-life-scenes-from-the-american-indie-underground-1981-1991_985/index.html', '£57.25'), ('Olio', 'catalogue/olio_984/index.html', '£23.88'), ('Mesaerion: The Best Science Fiction Stories 1800-1849', 'catalogue/mesaerion-the-best-science-fiction-stories-1800-1849_983/index.html', '£37.59'), ('Libertarianism for Beginners', 'catalogue/libertarianism-for-beginners_982/index.html', '£51.33'), (\"It's Only the Himalayas\", 'catalogue/its-only-the-himalayas_981/index.html', '£45.17')]\n"
     ]
    }
   ],
   "source": [
    "books = soup.select(\"article.product_pod\")\n",
    "\n",
    "book_list = list()\n",
    "\n",
    "for book in books:\n",
    "    title = book.select_one(\"h3 a\").attrs['title']\n",
    "    link = book.select_one(\"h3 a\").attrs['href']\n",
    "    price = book.select_one(\"p.price_color\").text.replace(\"Â\",\"\")\n",
    "    book_list.append((title, link, price))\n",
    "    \n",
    "print (book_list)\n",
    "    "
   ]
  },
  {
   "cell_type": "markdown",
   "metadata": {},
   "source": [
    "### Make use attrs\n",
    "Mirar donde está la info, y usar `href`, `title`, etc, si existen, como en el ejemplo anterior"
   ]
  },
  {
   "cell_type": "markdown",
   "metadata": {},
   "source": []
  }
 ],
 "metadata": {
  "kernelspec": {
   "display_name": "Python 3.11.0 ('.venv': venv)",
   "language": "python",
   "name": "python3"
  },
  "language_info": {
   "codemirror_mode": {
    "name": "ipython",
    "version": 3
   },
   "file_extension": ".py",
   "mimetype": "text/x-python",
   "name": "python",
   "nbconvert_exporter": "python",
   "pygments_lexer": "ipython3",
   "version": "3.11.0"
  },
  "orig_nbformat": 4,
  "vscode": {
   "interpreter": {
    "hash": "bc07d2dde32dcfca1f2e1fb099f988da8afa65e66b9a65852c3fb95a09ef9065"
   }
  }
 },
 "nbformat": 4,
 "nbformat_minor": 2
}
